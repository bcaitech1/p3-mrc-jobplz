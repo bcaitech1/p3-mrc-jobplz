{
 "cells": [
  {
   "cell_type": "code",
   "execution_count": 1,
   "id": "69ff84ba-0c24-4469-8a24-955d326f870e",
   "metadata": {},
   "outputs": [],
   "source": [
    "import sys\n",
    "sys.path.append('..')\n",
    "import pickle\n",
    "from kss import split_chunks\n",
    "from kss import split_sentences\n",
    "import json\n",
    "import re\n",
    "from tqdm.auto import tqdm"
   ]
  },
  {
   "cell_type": "code",
   "execution_count": 2,
   "id": "ca4c580c-2767-4bbe-b866-3ece6319dd20",
   "metadata": {},
   "outputs": [],
   "source": [
    "with open('/opt/ml/input/data/data/wikipedia_documents.json') as f:\n",
    "    wiki_docs = json.load(f)\n",
    "wiki_docs = list(dict.fromkeys([v['text'] for v in wiki_docs.values()]))"
   ]
  },
  {
   "cell_type": "code",
   "execution_count": 3,
   "id": "3c3e7d20-5b8a-46a9-a6c5-c69da6acd211",
   "metadata": {},
   "outputs": [],
   "source": [
    "wiki_docs = [re.sub(r'[\\w:.?!/=\\-,&]*=[\\w:.?!/=\\-,&]*\\||\\|[\\w:.?!/=\\-,&]*=[\\w:.?!/=\\-,&]*', '', cxt) for cxt in wiki_docs]\n",
    "wiki_docs = [re.sub(r'</?(br)/?>|</?(ref)/?>', '',cxt) for cxt in wiki_docs]\n",
    "wiki_docs = [re.sub(r'\\xa0',' ', cxt) for cxt in wiki_docs]\n",
    "wiki_docs = [re.sub(r'\\\\n','\\n', cxt) for cxt in wiki_docs]\n",
    "wiki_docs = [re.sub(r'[^\\w\\s\\'\\\".,?!]',' ', cxt) for cxt in wiki_docs]\n",
    "wiki_docs = [re.sub(r'( )+',' ', cxt) for cxt in wiki_docs]"
   ]
  },
  {
   "cell_type": "code",
   "execution_count": 7,
   "id": "d80e37f2-8e13-4004-a5cd-854a5d4c32ee",
   "metadata": {},
   "outputs": [
    {
     "data": {
      "application/vnd.jupyter.widget-view+json": {
       "model_id": "b2c0da9071ae43e8bf7e35b950406f6d",
       "version_major": 2,
       "version_minor": 0
      },
      "text/plain": [
       "HBox(children=(FloatProgress(value=0.0, max=56737.0), HTML(value='')))"
      ]
     },
     "metadata": {},
     "output_type": "display_data"
    },
    {
     "name": "stdout",
     "output_type": "stream",
     "text": [
      "\n"
     ]
    }
   ],
   "source": [
    "process_list = []\n",
    "\n",
    "for cxt in tqdm(wiki_docs):\n",
    "    cxt_list = split_sentences(cxt)\n",
    "    tmp = []\n",
    "    for sentence in cxt_list:\n",
    "        if re.search(r'[ㄱ-ㅎㅏ-ㅣ가-힣]', sentence) != None:\n",
    "            tmp.append(sentence)\n",
    "    \n",
    "    process_list.append(' '.join(tmp))\n",
    "\n",
    "with open('/opt/ml/input/data/data/processed_wiki_list.bin', 'wb') as f:\n",
    "    pickle.dump(process_list,f)"
   ]
  },
  {
   "cell_type": "code",
   "execution_count": 8,
   "id": "949db6c2-8498-4083-bbd8-6debe094c805",
   "metadata": {},
   "outputs": [
    {
     "data": {
      "application/vnd.jupyter.widget-view+json": {
       "model_id": "463b0f7431d64414addb3bb2036b1c22",
       "version_major": 2,
       "version_minor": 0
      },
      "text/plain": [
       "HBox(children=(FloatProgress(value=0.0, max=45234.0), HTML(value='')))"
      ]
     },
     "metadata": {},
     "output_type": "display_data"
    },
    {
     "name": "stdout",
     "output_type": "stream",
     "text": [
      "\n"
     ]
    },
    {
     "data": {
      "application/vnd.jupyter.widget-view+json": {
       "model_id": "31a1ef9e38e746cf9e234f9f931e02b8",
       "version_major": 2,
       "version_minor": 0
      },
      "text/plain": [
       "HBox(children=(FloatProgress(value=0.0, max=11502.0), HTML(value='')))"
      ]
     },
     "metadata": {},
     "output_type": "display_data"
    },
    {
     "name": "stdout",
     "output_type": "stream",
     "text": [
      "\n"
     ]
    }
   ],
   "source": [
    "with open('/opt/ml/input/data/data/processed_wiki_list.bin', 'rb') as f:\n",
    "    process_list = pickle.load(f)\n",
    "\n",
    "split_wiki_list_1280 = [] #45234 없애버림\n",
    "for cxt in tqdm(process_list[:45234]):\n",
    "    if cxt == '':\n",
    "        continue\n",
    "    for chunk in split_chunks(cxt, max_length=1280, overlap=True):\n",
    "        split_wiki_list_1280.append(chunk.text)\n",
    "        \n",
    "for cxt in tqdm(process_list[45235:]):\n",
    "    if cxt == '':\n",
    "        continue\n",
    "    for chunk in split_chunks(cxt, max_length=1280, overlap=True):\n",
    "        split_wiki_list_1280.append(chunk.text)\n",
    "\n",
    "with open('/opt/ml/input/data/data/split_wiki_list_1280.bin', 'wb') as f:\n",
    "    pickle.dump(split_wiki_list_1280,f)"
   ]
  }
 ],
 "metadata": {
  "kernelspec": {
   "display_name": "Python 3",
   "language": "python",
   "name": "python3"
  },
  "language_info": {
   "codemirror_mode": {
    "name": "ipython",
    "version": 3
   },
   "file_extension": ".py",
   "mimetype": "text/x-python",
   "name": "python",
   "nbconvert_exporter": "python",
   "pygments_lexer": "ipython3",
   "version": "3.7.7"
  }
 },
 "nbformat": 4,
 "nbformat_minor": 5
}
