{
 "cells": [
  {
   "cell_type": "code",
   "execution_count": 2,
   "id": "8ae8ff6f-2bbe-4401-b707-07cfc30655e9",
   "metadata": {},
   "outputs": [],
   "source": [
    "import sys\n",
    "sys.path.append('/opt/ml/workspace/baseline')\n",
    "\n",
    "from retrieval import SparseRetrieval\n",
    "from utils_qa import tokenize\n",
    "\n",
    "from datasets import load_from_disk"
   ]
  },
  {
   "cell_type": "code",
   "execution_count": 37,
   "id": "9303e76c-58d9-4a2a-a1c0-21e49f2b93c3",
   "metadata": {},
   "outputs": [
    {
     "data": {
      "application/vnd.jupyter.widget-view+json": {
       "model_id": "8b516a3c2bb84d6ea01ba4c3ae9aef61",
       "version_major": 2,
       "version_minor": 0
      },
      "text/plain": [
       "HBox(children=(FloatProgress(value=0.0, max=3952.0), HTML(value='')))"
      ]
     },
     "metadata": {},
     "output_type": "display_data"
    },
    {
     "name": "stdout",
     "output_type": "stream",
     "text": [
      "\n"
     ]
    }
   ],
   "source": [
    "dataset_KLUE = load_from_disk('/opt/ml/input/data/data/train_dataset')\n",
    "dataset_train = dataset_KLUE['train']\n",
    "dataset_KLUE_train = dataset_KLUE['train'].map(features=dataset_KLUE['train'].features, keep_in_memory=True)"
   ]
  },
  {
   "cell_type": "code",
   "execution_count": 41,
   "id": "abc85bd8-b1ea-4275-93ea-03c1dd7f3712",
   "metadata": {},
   "outputs": [
    {
     "name": "stdout",
     "output_type": "stream",
     "text": [
      "Lengths of unique contexts : 56737\n",
      "Embedding pickle load.\n",
      "[query exhaustive search] done in 40.562 s\n"
     ]
    },
    {
     "data": {
      "application/vnd.jupyter.widget-view+json": {
       "model_id": "dfa2cdf5d8134d579d12ba8d0559c908",
       "version_major": 2,
       "version_minor": 0
      },
      "text/plain": [
       "HBox(children=(FloatProgress(value=0.0, description='Sparse retrieval: ', max=3952.0, style=ProgressStyle(desc…"
      ]
     },
     "metadata": {},
     "output_type": "display_data"
    },
    {
     "name": "stdout",
     "output_type": "stream",
     "text": [
      "\n",
      "1311\n"
     ]
    }
   ],
   "source": [
    "retriever = SparseRetrieval(tokenize_fn=tokenize,\n",
    "                            data_path=\"/opt/ml/input/data/data\",\n",
    "                            context_path=\"wikipedia_documents.json\")\n",
    "retriever.get_sparse_embedding()\n",
    "df = retriever.retrieve(dataset_train, topk=2)\n",
    "\n",
    "high_TF_IDF_list = []\n",
    "gold_list = []\n",
    "equal_num = 0\n",
    "for i in range(0, len(df), 2):\n",
    "    cxt1 = re.sub(r'[ ]+',' ', df.loc[i]['context'])\n",
    "    cxt1 = re.sub(r'\\\\n', '\\n', cxt1)\n",
    "    cxt2 = re.sub(r'[ ]+',' ', df.loc[i+1]['context'])\n",
    "    cxt2 = re.sub(r'\\\\n', '\\n', cxt2)\n",
    "    origin_cxt = re.sub(r'[ ]+', ' ', df.loc[i][\"original_context\"])\n",
    "    origin_cxt = re.sub(r'\\\\n', '\\n', origin_cxt)\n",
    "    \n",
    "    gold_list.append(origin_cxt)\n",
    "    if cxt1 == origin_cxt:\n",
    "        equal_num += 1\n",
    "        high_TF_IDF_list.append(cxt2)\n",
    "    else:\n",
    "        high_TF_IDF_list.append(cxt1)\n",
    "\n",
    "print(equal_num)"
   ]
  }
 ],
 "metadata": {
  "kernelspec": {
   "display_name": "Python 3",
   "language": "python",
   "name": "python3"
  },
  "language_info": {
   "codemirror_mode": {
    "name": "ipython",
    "version": 3
   },
   "file_extension": ".py",
   "mimetype": "text/x-python",
   "name": "python",
   "nbconvert_exporter": "python",
   "pygments_lexer": "ipython3",
   "version": "3.7.7"
  }
 },
 "nbformat": 4,
 "nbformat_minor": 5
}
