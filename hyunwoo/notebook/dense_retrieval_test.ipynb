{
 "cells": [
  {
   "cell_type": "code",
   "execution_count": 1,
   "id": "ec7d1827-90fe-423e-ada9-0fd8cc2a06c8",
   "metadata": {},
   "outputs": [],
   "source": [
    "import sys\n",
    "from collections import defaultdict\n",
    "sys.path.append('..')\n",
    "\n",
    "import numpy as np\n",
    "import pandas as pd\n",
    "import re\n",
    "from tqdm.auto import tqdm\n",
    "from retrieval_dense import DenseRetrieval\n",
    "from ms_retrieval import SparseRetrieval\n",
    "from utils_qa import tokenize\n",
    "\n",
    "from datasets import load_from_disk, load_dataset\n",
    "import torch"
   ]
  },
  {
   "cell_type": "markdown",
   "id": "1c08d1ef-b62c-4044-9e39-142bdaf0b0e8",
   "metadata": {},
   "source": [
    "# Dense Retrieval 및 데이터셋 불러오기"
   ]
  },
  {
   "cell_type": "code",
   "execution_count": 2,
   "id": "e63b4dab-f2de-4158-9d5e-258a8df1aded",
   "metadata": {},
   "outputs": [
    {
     "name": "stdout",
     "output_type": "stream",
     "text": [
      "Lengths of unique contexts : 56737\n",
      "Lengths of unique contexts : 56737\n",
      "Embedding pickle load.\n",
      "Embedding pickle load.\n"
     ]
    }
   ],
   "source": [
    "dataset = load_from_disk('/opt/ml/input/data/data/train_dataset')\n",
    "\n",
    "dense_retriever = DenseRetrieval(p_path='thingsu/koDPR_context', q_path='thingsu/koDPR_question',\n",
    "                           bert_path='kykim/bert-kor-base')\n",
    "sparse_retriever = SparseRetrieval(tokenize)\n",
    "\n",
    "dense_retriever.get_dense_embedding()\n",
    "sparse_retriever.get_sparse_embedding()"
   ]
  },
  {
   "cell_type": "code",
   "execution_count": 3,
   "id": "91dbdba8-1c00-4935-a0fc-85e273acf530",
   "metadata": {},
   "outputs": [
    {
     "data": {
      "application/vnd.jupyter.widget-view+json": {
       "model_id": "aaded07a1e694e8c8da83296d6536dde",
       "version_major": 2,
       "version_minor": 0
      },
      "text/plain": [
       "HBox(children=(FloatProgress(value=0.0, max=12.0), HTML(value='')))"
      ]
     },
     "metadata": {},
     "output_type": "display_data"
    },
    {
     "name": "stdout",
     "output_type": "stream",
     "text": [
      "\n",
      "[transform] done in 4.765 s\n",
      "[query exhaustive search] done in 7.120 s\n"
     ]
    },
    {
     "data": {
      "application/vnd.jupyter.widget-view+json": {
       "model_id": "0246b8565058424ebc14e8ec717dca85",
       "version_major": 2,
       "version_minor": 0
      },
      "text/plain": [
       "HBox(children=(FloatProgress(value=0.0, description='Dense retrieval: ', max=240.0, style=ProgressStyle(descri…"
      ]
     },
     "metadata": {},
     "output_type": "display_data"
    },
    {
     "name": "stdout",
     "output_type": "stream",
     "text": [
      "\n",
      "[query exhaustive search] done in 5.560 s\n"
     ]
    },
    {
     "data": {
      "application/vnd.jupyter.widget-view+json": {
       "model_id": "6fd9d4c8e97e494ea256b06f2fefc4de",
       "version_major": 2,
       "version_minor": 0
      },
      "text/plain": [
       "HBox(children=(FloatProgress(value=0.0, description='Sparse retrieval: ', max=240.0, style=ProgressStyle(descr…"
      ]
     },
     "metadata": {},
     "output_type": "display_data"
    },
    {
     "name": "stdout",
     "output_type": "stream",
     "text": [
      "\n"
     ]
    }
   ],
   "source": [
    "df_dense = dense_retriever.retrieve(dataset['validation'],topk=100)\n",
    "df_sparse = sparse_retriever.retrieve(dataset['validation'],topk=100)"
   ]
  },
  {
   "cell_type": "markdown",
   "id": "a2f39802-adc2-43f9-a498-708c70f65c73",
   "metadata": {},
   "source": [
    "# 두 retrieval 합치기"
   ]
  },
  {
   "cell_type": "code",
   "execution_count": 8,
   "id": "26cc4704-575c-4360-83a4-e22021fe89ec",
   "metadata": {},
   "outputs": [
    {
     "data": {
      "application/vnd.jupyter.widget-view+json": {
       "model_id": "7af4130a088448fc9d3dc8eff80404c0",
       "version_major": 2,
       "version_minor": 0
      },
      "text/plain": [
       "HBox(children=(FloatProgress(value=0.0), HTML(value='')))"
      ]
     },
     "metadata": {},
     "output_type": "display_data"
    },
    {
     "name": "stdout",
     "output_type": "stream",
     "text": [
      "0.925 0.5 2.1981981981981984\n",
      "0.925 0.51 2.1936936936936937\n",
      "0.925 0.52 2.1831831831831834\n",
      "0.925 0.53 2.1734234234234235\n",
      "0.925 0.54 2.163963963963964\n",
      "0.925 0.55 2.156906906906907\n",
      "0.925 0.56 2.14993564993565\n",
      "0.925 0.5700000000000001 2.143581081081081\n",
      "0.925 0.5800000000000001 2.1366366366366365\n",
      "0.925 0.5900000000000001 2.130630630630631\n",
      "0.925 0.6000000000000001 2.124897624897625\n",
      "0.925 0.6100000000000001 2.12012012012012\n",
      "0.925 0.6200000000000001 2.1146916146916146\n",
      "0.925 0.6300000000000001 2.109073359073359\n",
      "0.925 0.6400000000000001 2.103903903903904\n",
      "0.925 0.6500000000000001 2.099380630630631\n",
      "0.925 0.6600000000000001 2.0945945945945947\n",
      "0.925 0.6700000000000002 2.0895895895895897\n",
      "0.925 0.6800000000000002 2.0848743480322427\n",
      "0.925 0.6900000000000002 2.0806306306306306\n",
      "0.925 0.7000000000000002 2.0763620763620763\n",
      "0.925 0.7100000000000002 2.0720720720720722\n",
      "0.925 0.7200000000000002 2.0675675675675675\n",
      "0.925 0.7300000000000002 2.063626126126126\n",
      "0.925 0.7400000000000002 2.06\n",
      "0.925 0.7500000000000002 2.0564795564795566\n",
      "0.925 0.7600000000000002 2.05321988655322\n",
      "0.925 0.7700000000000002 2.0501930501930503\n",
      "0.925 0.7800000000000002 2.04721963342653\n",
      "0.925 0.7900000000000003 2.044294294294294\n",
      "0.925 0.8000000000000003 2.040976460331299\n",
      "0.925 0.8100000000000003 2.0380067567567566\n",
      "0.925 0.8200000000000003 2.035080535080535\n",
      "0.925 0.8300000000000003 2.0325914149443562\n",
      "0.925 0.8400000000000003 2.03024453024453\n",
      "0.925 0.8500000000000003 2.0281531531531534\n",
      "0.925 0.8600000000000003 2.0260530801071344\n",
      "0.925 0.8700000000000003 2.0243006164058794\n",
      "0.9291666666666667 0.8800000000000003 2.0244831966739807\n",
      "0.9291666666666667 0.8900000000000003 2.02443143436163\n",
      "0.9291666666666667 0.9000000000000004 2.024382207578254\n",
      "0.9291666666666667 0.9100000000000004 2.0243353344768438\n",
      "0.9291666666666667 0.9200000000000004 2.023976546958434\n",
      "0.9291666666666667 0.9300000000000004 2.023634131368938\n",
      "0.9291666666666667 0.9400000000000004 2.0232069620886266\n",
      "0.9291666666666667 0.9500000000000004 2.0226027397260276\n",
      "0.9291666666666667 0.9600000000000004 2.0220243225126877\n",
      "0.9291666666666667 0.9700000000000004 2.0213763360210013\n",
      "0.9291666666666667 0.9800000000000004 2.020571218661034\n",
      "0.9291666666666667 0.9900000000000004 2.0198884089272857\n",
      "0.9291666666666667 1.0000000000000004 2.0192324658138507\n",
      "0.9333333333333333 1.0100000000000005 2.019984427718661\n",
      "0.9333333333333333 1.0200000000000005 2.0207077993719764\n",
      "0.9333333333333333 1.0300000000000005 2.021404180894478\n",
      "0.9333333333333333 1.0400000000000005 2.022075055187638\n",
      "0.9333333333333333 1.0500000000000005 2.0226415094339623\n",
      "0.9333333333333333 1.0600000000000005 2.023109078002997\n",
      "0.9333333333333333 1.0700000000000005 2.0235604123072153\n",
      "0.9333333333333333 1.0800000000000005 2.0239201645463547\n",
      "0.9333333333333333 1.0900000000000005 2.024192944348738\n",
      "0.9333333333333333 1.1000000000000005 2.0243830570902395\n",
      "0.9333333333333333 1.1100000000000005 2.0245669976085225\n",
      "0.9375 1.1200000000000006 2.026026811180833\n",
      "0.9416666666666667 1.1300000000000006 2.028421052631579\n",
      "0.9416666666666667 1.1400000000000006 2.030602376347057\n",
      "0.9416666666666667 1.1500000000000006 2.032648619235478\n",
      "0.9458333333333333 1.1600000000000006 2.0358362917810973\n",
      "0.9458333333333333 1.1700000000000006 2.0389284771707574\n",
      "0.9458333333333333 1.1800000000000006 2.0415393616329713\n",
      "0.9458333333333333 1.1900000000000006 2.043946188340807\n",
      "0.9458333333333333 1.2000000000000006 2.0463471617099196\n",
      "0.9458333333333333 1.2100000000000006 2.0484312749003983\n",
      "0.9458333333333333 1.2200000000000006 2.0503345405438584\n",
      "0.9458333333333333 1.2300000000000006 2.052124954594987\n",
      "0.9458333333333333 1.2400000000000007 2.053986264556584\n",
      "0.9416666666666667 1.2500000000000007 2.0546815155264864\n",
      "0.9416666666666667 1.2600000000000007 2.055358492760365\n",
      "0.9416666666666667 1.2700000000000007 2.05596051196694\n",
      "0.9458333333333333 1.2800000000000007 2.0574504249291783\n",
      "0.9458333333333333 1.2900000000000007 2.0588465626223638\n",
      "0.9458333333333333 1.3000000000000007 2.0600419796730005\n",
      "0.9458333333333333 1.3100000000000007 2.0609895804920626\n",
      "0.9458333333333333 1.3200000000000007 2.0618062291195174\n",
      "0.9458333333333333 1.3300000000000007 2.062549906840564\n",
      "0.9458333333333333 1.3400000000000007 2.063223227435304\n",
      "0.9458333333333333 1.3500000000000008 2.0639846145849576\n",
      "0.9458333333333333 1.3600000000000008 2.0646255008733174\n",
      "0.9458333333333333 1.3700000000000008 2.065454730107145\n",
      "0.9416666666666667 1.3800000000000008 2.065565540438777\n",
      "0.9416666666666667 1.3900000000000008 2.065673864482502\n",
      "0.9416666666666667 1.4000000000000008 2.065779784988464\n",
      "0.9416666666666667 1.4100000000000008 2.0658833810749138\n",
      "0.9416666666666667 1.4200000000000008 2.065984728425299\n",
      "0.9416666666666667 1.4300000000000008 2.0661314076678226\n",
      "0.9416666666666667 1.4400000000000008 2.0662279670975323\n",
      "0.9416666666666667 1.4500000000000008 2.0662759871633876\n",
      "0.9416666666666667 1.4600000000000009 2.066323008238597\n",
      "0.9416666666666667 1.4700000000000009 2.0664146130369425\n",
      "0.9416666666666667 1.4800000000000009 2.06654943865819\n",
      "0.9375 1.4900000000000009 2.0661042670951617\n",
      "\n",
      "0.9458333333333333 1.1600000000000006\n"
     ]
    }
   ],
   "source": [
    "best_score = 0\n",
    "best_k = 0\n",
    "total_grade = 0\n",
    "correct_number = 0\n",
    "for k in tqdm(np.arange(0.5, 1.5, 0.01)):\n",
    "    j = 1\n",
    "    \n",
    "    dict_context_list = []\n",
    "    for idx in range(len(df_sparse)):\n",
    "        dict_context = defaultdict(float)\n",
    "        data = df_sparse.loc[idx]\n",
    "        for context_id, score in zip(data['context_id'], data['scores']):\n",
    "            dict_context[context_id] = j * score\n",
    "        dict_context_list.append(dict_context)\n",
    "\n",
    "    for idx, dict_context in enumerate(dict_context_list):\n",
    "        data = df_dense.loc[idx]\n",
    "        for context_id, score in zip(data['context_id'], data['scores']):\n",
    "            dict_context[context_id] += k * score\n",
    "\n",
    "    context_score_pair_list = []\n",
    "    for dict_context in dict_context_list:\n",
    "        tmp_list = list(dict_context.items())\n",
    "        tmp_list.sort(key=lambda x : x[1], reverse=True)\n",
    "        context_score_pair_list.append(tmp_list)\n",
    "\n",
    "    topk_20_prob = 0\n",
    "    for idx in range(len(df_sparse)):\n",
    "        original_cxt = df_sparse.loc[idx]['original_context']\n",
    "        original_cxt = re.sub(r'\\\\n','\\n', original_cxt) \n",
    "        original_cxt = re.sub(r'( )+',' ', original_cxt) \n",
    "        tmp_id_list = [cxt_id[0] for cxt_id in context_score_pair_list[idx]]\n",
    "        for grade, cxt_id in enumerate(tmp_id_list[:20]):\n",
    "            compare_cxt = sparse_retriever.contexts[cxt_id]\n",
    "            compare_cxt = re.sub(r'\\\\n','\\n', compare_cxt) \n",
    "            compare_cxt = re.sub(r'( )+',' ', compare_cxt)\n",
    "            if original_cxt == compare_cxt:\n",
    "                topk_20_prob += 1\n",
    "                total_grade += grade + 1\n",
    "                correct_number += 1\n",
    "                break\n",
    "\n",
    "    score = topk_20_prob/len(df_sparse)\n",
    "    if score > best_score:\n",
    "        best_score = score\n",
    "        best_k = k\n",
    "    print(score, k, total_grade/correct_number)\n",
    "print(best_score, best_k)"
   ]
  },
  {
   "cell_type": "markdown",
   "id": "f37cec86-192a-4a28-a6c8-d9d9fb1b08c5",
   "metadata": {},
   "source": [
    "## topk 30안에 passage를 가장 잘 가지고 오는 계수 k는 1.1쯔음임을 알 수 있다."
   ]
  }
 ],
 "metadata": {
  "kernelspec": {
   "display_name": "Python 3",
   "language": "python",
   "name": "python3"
  },
  "language_info": {
   "codemirror_mode": {
    "name": "ipython",
    "version": 3
   },
   "file_extension": ".py",
   "mimetype": "text/x-python",
   "name": "python",
   "nbconvert_exporter": "python",
   "pygments_lexer": "ipython3",
   "version": "3.7.7"
  }
 },
 "nbformat": 4,
 "nbformat_minor": 5
}
