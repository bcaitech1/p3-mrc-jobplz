{
 "cells": [
  {
   "cell_type": "code",
   "execution_count": 8,
   "id": "8ae8ff6f-2bbe-4401-b707-07cfc30655e9",
   "metadata": {},
   "outputs": [],
   "source": [
    "import sys\n",
    "sys.path.append('..')\n",
    "import re\n",
    "import json\n",
    "from datasets import load_from_disk\n",
    "from tqdm.auto import tqdm"
   ]
  },
  {
   "cell_type": "code",
   "execution_count": 11,
   "id": "cef57c5c-a4f8-4e6b-8961-c3248520a408",
   "metadata": {},
   "outputs": [],
   "source": [
    "with open('/opt/ml/input/data/data/wikipedia_documents.json') as f:\n",
    "    wiki_docs = json.load(f)\n",
    "    \n",
    "wiki_docs = list(dict.fromkeys([v['text'] for v in wiki_docs.values()]))\n",
    "\n",
    "dataset = load_from_disk('/opt/ml/input/data/data/train_dataset')\n",
    "\n",
    "dataset = [cxt for cxt in dataset['train']['context']]"
   ]
  },
  {
   "cell_type": "code",
   "execution_count": 12,
   "id": "92429475-c57f-4bb6-b6b0-df4bb2e46690",
   "metadata": {},
   "outputs": [],
   "source": [
    "wiki_docs = [re.sub(r'( )+',' ', cxt) for cxt in wiki_docs]\n",
    "wiki_docs = [re.sub(r'\\\\n','\\n', cxt) for cxt in wiki_docs]\n",
    "dataset = [re.sub(r'( )+',' ', cxt) for cxt in dataset]\n",
    "dataset = [re.sub(r'\\\\n','\\n', cxt) for cxt in dataset]"
   ]
  },
  {
   "cell_type": "code",
   "execution_count": 13,
   "id": "6c899abb-668e-4d70-9285-7ccca1d1f6a8",
   "metadata": {},
   "outputs": [
    {
     "data": {
      "application/vnd.jupyter.widget-view+json": {
       "model_id": "da7fa78ad3d745f49320ff47a0f741fd",
       "version_major": 2,
       "version_minor": 0
      },
      "text/plain": [
       "HBox(children=(FloatProgress(value=0.0, max=3952.0), HTML(value='')))"
      ]
     },
     "metadata": {},
     "output_type": "display_data"
    },
    {
     "name": "stdout",
     "output_type": "stream",
     "text": [
      "\n"
     ]
    }
   ],
   "source": [
    "exist_num = 0\n",
    "for cxt in tqdm(dataset):\n",
    "    if cxt in wiki_docs:\n",
    "        exist_num += 1"
   ]
  },
  {
   "cell_type": "code",
   "execution_count": 14,
   "id": "e285b203-e364-4291-9e29-839bf6ef124b",
   "metadata": {},
   "outputs": [
    {
     "data": {
      "text/plain": [
       "3952"
      ]
     },
     "execution_count": 14,
     "metadata": {},
     "output_type": "execute_result"
    }
   ],
   "source": [
    "exist_num"
   ]
  }
 ],
 "metadata": {
  "kernelspec": {
   "display_name": "Python 3",
   "language": "python",
   "name": "python3"
  },
  "language_info": {
   "codemirror_mode": {
    "name": "ipython",
    "version": 3
   },
   "file_extension": ".py",
   "mimetype": "text/x-python",
   "name": "python",
   "nbconvert_exporter": "python",
   "pygments_lexer": "ipython3",
   "version": "3.7.7"
  }
 },
 "nbformat": 4,
 "nbformat_minor": 5
}
