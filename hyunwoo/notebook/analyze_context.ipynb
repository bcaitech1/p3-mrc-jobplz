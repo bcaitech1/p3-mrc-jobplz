{
 "cells": [
  {
   "cell_type": "code",
   "execution_count": 21,
   "id": "8ae8ff6f-2bbe-4401-b707-07cfc30655e9",
   "metadata": {},
   "outputs": [],
   "source": [
    "import sys\n",
    "sys.path.append('..')\n",
    "import re\n",
    "import json"
   ]
  },
  {
   "cell_type": "code",
   "execution_count": 5,
   "id": "cef57c5c-a4f8-4e6b-8961-c3248520a408",
   "metadata": {},
   "outputs": [
    {
     "data": {
      "text/plain": [
       "'이 문서는 나라 목록이며, 전 세계 206개 나라의 각 현황과 주권 승인 정보를 개요 형태로 나열하고 있다.\\n\\n이 목록은 명료화를 위해 두 부분으로 나뉘어 있다.\\n\\n# 첫 번째 부분은 바티칸 시국과 팔레스타인을 포함하여 유엔 등 국제 기구에 가입되어 국제적인 승인을 널리 받았다고 여기는 195개 나라를 나열하고 있다.\\n# 두 번째 부분은 일부 지역의 주권을 사실상 (데 팍토) 행사하고 있지만, 아직 국제적인 승인을 널리 받지 않았다고 여기는 11개 나라를 나열하고 있다.\\n\\n두 목록은 모두 가나다 순이다.\\n\\n일부 국가의 경우 국가로서의 자격에 논쟁의 여부가 있으며, 이 때문에 이러한 목록을 엮는 것은 매우 어렵고 논란이 생길 수 있는 과정이다. 이 목록을 구성하고 있는 국가를 선정하는 기준에 대한 정보는 \"포함 기준\" 단락을 통해 설명하였다. 나라에 대한 일반적인 정보는 \"국가\" 문서에서 설명하고 있다.'"
      ]
     },
     "execution_count": 5,
     "metadata": {},
     "output_type": "execute_result"
    }
   ],
   "source": [
    "with open('/opt/ml/input/data/data/wikipedia_documents.json') as f:\n",
    "    wiki_docs = json.load(f)\n",
    "    \n",
    "wiki_docs = list(dict.fromkeys([v['text'] for v in wiki_docs.values()]))"
   ]
  },
  {
   "cell_type": "code",
   "execution_count": 6,
   "id": "92429475-c57f-4bb6-b6b0-df4bb2e46690",
   "metadata": {},
   "outputs": [],
   "source": [
    "wiki_docs = [re.sub(r'( )+',' ', cxt) for cxt in wiki_docs]\n",
    "wiki_docs = [re.sub(r'\\\\n','\\n', cxt) for cxt in wiki_docs]"
   ]
  },
  {
   "cell_type": "code",
   "execution_count": 19,
   "id": "6c899abb-668e-4d70-9285-7ccca1d1f6a8",
   "metadata": {},
   "outputs": [
    {
     "data": {
      "text/plain": [
       "3554"
      ]
     },
     "execution_count": 19,
     "metadata": {},
     "output_type": "execute_result"
    }
   ],
   "source": [
    "idx_set = set()\n",
    "for idx , cxt in enumerate(wiki_docs):\n",
    "    if '{' in cxt:\n",
    "        idx_set.add(idx)\n",
    "\n",
    "for idx , cxt in enumerate(wiki_docs):\n",
    "    if '}' in cxt:\n",
    "        idx_set.add(idx)\n",
    "\n",
    "for idx, cxt in enumerate(wiki_docs):\n",
    "    if '|' in cxt:\n",
    "        idx_set.add(idx)\n",
    "\n",
    "len(idx_set)"
   ]
  }
 ],
 "metadata": {
  "kernelspec": {
   "display_name": "Python 3",
   "language": "python",
   "name": "python3"
  },
  "language_info": {
   "codemirror_mode": {
    "name": "ipython",
    "version": 3
   },
   "file_extension": ".py",
   "mimetype": "text/x-python",
   "name": "python",
   "nbconvert_exporter": "python",
   "pygments_lexer": "ipython3",
   "version": "3.7.7"
  }
 },
 "nbformat": 4,
 "nbformat_minor": 5
}
